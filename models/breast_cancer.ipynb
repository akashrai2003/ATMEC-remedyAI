{
 "cells": [
  {
   "cell_type": "code",
   "execution_count": 1,
   "id": "52143f02",
   "metadata": {},
   "outputs": [
    {
     "name": "stdout",
     "output_type": "stream",
     "text": [
      "GPU is available\n",
      "GPU Name: NVIDIA GeForce GTX 1650\n",
      "GPU Count: 1\n"
     ]
    }
   ],
   "source": [
    "import torch\n",
    "\n",
    "if torch.cuda.is_available():\n",
    "    print(\"GPU is available\")\n",
    "    print(f\"GPU Name: {torch.cuda.get_device_name(0)}\")\n",
    "    print(f\"GPU Count: {torch.cuda.device_count()}\")\n",
    "else:\n",
    "    print(\"GPU is not available\")\n"
   ]
  },
  {
   "cell_type": "code",
   "execution_count": 2,
   "id": "28d55c55",
   "metadata": {},
   "outputs": [
    {
     "name": "stdout",
     "output_type": "stream",
     "text": [
      "^C\n"
     ]
    }
   ],
   "source": [
    "!pip install sdv"
   ]
  },
  {
   "cell_type": "code",
   "execution_count": 2,
   "id": "dbdfdd32-5050-48c7-91a1-0931e4e6689c",
   "metadata": {},
   "outputs": [],
   "source": [
    "from sdv.metadata import SingleTableMetadata\n",
    "from sdv.evaluation.single_table import evaluate_quality, get_column_plot\n",
    "from sdv.single_table import GaussianCopulaSynthesizer, CTGANSynthesizer, TVAESynthesizer, CopulaGANSynthesizer\n",
    "\n",
    "import pandas as pd"
   ]
  },
  {
   "cell_type": "markdown",
   "id": "a3aed8c5",
   "metadata": {},
   "source": [
    "### Load dataset"
   ]
  },
  {
   "cell_type": "code",
   "execution_count": 3,
   "id": "c6949c6c-0e17-4870-b143-731ef86c0a0b",
   "metadata": {},
   "outputs": [
    {
     "data": {
      "text/html": [
       "<div>\n",
       "<style scoped>\n",
       "    .dataframe tbody tr th:only-of-type {\n",
       "        vertical-align: middle;\n",
       "    }\n",
       "\n",
       "    .dataframe tbody tr th {\n",
       "        vertical-align: top;\n",
       "    }\n",
       "\n",
       "    .dataframe thead th {\n",
       "        text-align: right;\n",
       "    }\n",
       "</style>\n",
       "<table border=\"1\" class=\"dataframe\">\n",
       "  <thead>\n",
       "    <tr style=\"text-align: right;\">\n",
       "      <th></th>\n",
       "      <th>radius1</th>\n",
       "      <th>texture1</th>\n",
       "      <th>perimeter1</th>\n",
       "      <th>area1</th>\n",
       "      <th>smoothness1</th>\n",
       "      <th>compactness1</th>\n",
       "      <th>concavity1</th>\n",
       "      <th>concave_points1</th>\n",
       "      <th>symmetry1</th>\n",
       "      <th>fractal_dimension1</th>\n",
       "      <th>...</th>\n",
       "      <th>texture3</th>\n",
       "      <th>perimeter3</th>\n",
       "      <th>area3</th>\n",
       "      <th>smoothness3</th>\n",
       "      <th>compactness3</th>\n",
       "      <th>concavity3</th>\n",
       "      <th>concave_points3</th>\n",
       "      <th>symmetry3</th>\n",
       "      <th>fractal_dimension3</th>\n",
       "      <th>Diagnosis</th>\n",
       "    </tr>\n",
       "  </thead>\n",
       "  <tbody>\n",
       "    <tr>\n",
       "      <th>0</th>\n",
       "      <td>17.99</td>\n",
       "      <td>10.38</td>\n",
       "      <td>122.80</td>\n",
       "      <td>1001.0</td>\n",
       "      <td>0.11840</td>\n",
       "      <td>0.27760</td>\n",
       "      <td>0.3001</td>\n",
       "      <td>0.14710</td>\n",
       "      <td>0.2419</td>\n",
       "      <td>0.07871</td>\n",
       "      <td>...</td>\n",
       "      <td>17.33</td>\n",
       "      <td>184.60</td>\n",
       "      <td>2019.0</td>\n",
       "      <td>0.1622</td>\n",
       "      <td>0.6656</td>\n",
       "      <td>0.7119</td>\n",
       "      <td>0.2654</td>\n",
       "      <td>0.4601</td>\n",
       "      <td>0.11890</td>\n",
       "      <td>M</td>\n",
       "    </tr>\n",
       "    <tr>\n",
       "      <th>1</th>\n",
       "      <td>20.57</td>\n",
       "      <td>17.77</td>\n",
       "      <td>132.90</td>\n",
       "      <td>1326.0</td>\n",
       "      <td>0.08474</td>\n",
       "      <td>0.07864</td>\n",
       "      <td>0.0869</td>\n",
       "      <td>0.07017</td>\n",
       "      <td>0.1812</td>\n",
       "      <td>0.05667</td>\n",
       "      <td>...</td>\n",
       "      <td>23.41</td>\n",
       "      <td>158.80</td>\n",
       "      <td>1956.0</td>\n",
       "      <td>0.1238</td>\n",
       "      <td>0.1866</td>\n",
       "      <td>0.2416</td>\n",
       "      <td>0.1860</td>\n",
       "      <td>0.2750</td>\n",
       "      <td>0.08902</td>\n",
       "      <td>M</td>\n",
       "    </tr>\n",
       "    <tr>\n",
       "      <th>2</th>\n",
       "      <td>19.69</td>\n",
       "      <td>21.25</td>\n",
       "      <td>130.00</td>\n",
       "      <td>1203.0</td>\n",
       "      <td>0.10960</td>\n",
       "      <td>0.15990</td>\n",
       "      <td>0.1974</td>\n",
       "      <td>0.12790</td>\n",
       "      <td>0.2069</td>\n",
       "      <td>0.05999</td>\n",
       "      <td>...</td>\n",
       "      <td>25.53</td>\n",
       "      <td>152.50</td>\n",
       "      <td>1709.0</td>\n",
       "      <td>0.1444</td>\n",
       "      <td>0.4245</td>\n",
       "      <td>0.4504</td>\n",
       "      <td>0.2430</td>\n",
       "      <td>0.3613</td>\n",
       "      <td>0.08758</td>\n",
       "      <td>M</td>\n",
       "    </tr>\n",
       "    <tr>\n",
       "      <th>3</th>\n",
       "      <td>11.42</td>\n",
       "      <td>20.38</td>\n",
       "      <td>77.58</td>\n",
       "      <td>386.1</td>\n",
       "      <td>0.14250</td>\n",
       "      <td>0.28390</td>\n",
       "      <td>0.2414</td>\n",
       "      <td>0.10520</td>\n",
       "      <td>0.2597</td>\n",
       "      <td>0.09744</td>\n",
       "      <td>...</td>\n",
       "      <td>26.50</td>\n",
       "      <td>98.87</td>\n",
       "      <td>567.7</td>\n",
       "      <td>0.2098</td>\n",
       "      <td>0.8663</td>\n",
       "      <td>0.6869</td>\n",
       "      <td>0.2575</td>\n",
       "      <td>0.6638</td>\n",
       "      <td>0.17300</td>\n",
       "      <td>M</td>\n",
       "    </tr>\n",
       "    <tr>\n",
       "      <th>4</th>\n",
       "      <td>20.29</td>\n",
       "      <td>14.34</td>\n",
       "      <td>135.10</td>\n",
       "      <td>1297.0</td>\n",
       "      <td>0.10030</td>\n",
       "      <td>0.13280</td>\n",
       "      <td>0.1980</td>\n",
       "      <td>0.10430</td>\n",
       "      <td>0.1809</td>\n",
       "      <td>0.05883</td>\n",
       "      <td>...</td>\n",
       "      <td>16.67</td>\n",
       "      <td>152.20</td>\n",
       "      <td>1575.0</td>\n",
       "      <td>0.1374</td>\n",
       "      <td>0.2050</td>\n",
       "      <td>0.4000</td>\n",
       "      <td>0.1625</td>\n",
       "      <td>0.2364</td>\n",
       "      <td>0.07678</td>\n",
       "      <td>M</td>\n",
       "    </tr>\n",
       "  </tbody>\n",
       "</table>\n",
       "<p>5 rows × 31 columns</p>\n",
       "</div>"
      ],
      "text/plain": [
       "   radius1  texture1  perimeter1   area1  smoothness1  compactness1  \\\n",
       "0    17.99     10.38      122.80  1001.0      0.11840       0.27760   \n",
       "1    20.57     17.77      132.90  1326.0      0.08474       0.07864   \n",
       "2    19.69     21.25      130.00  1203.0      0.10960       0.15990   \n",
       "3    11.42     20.38       77.58   386.1      0.14250       0.28390   \n",
       "4    20.29     14.34      135.10  1297.0      0.10030       0.13280   \n",
       "\n",
       "   concavity1  concave_points1  symmetry1  fractal_dimension1  ...  texture3  \\\n",
       "0      0.3001          0.14710     0.2419             0.07871  ...     17.33   \n",
       "1      0.0869          0.07017     0.1812             0.05667  ...     23.41   \n",
       "2      0.1974          0.12790     0.2069             0.05999  ...     25.53   \n",
       "3      0.2414          0.10520     0.2597             0.09744  ...     26.50   \n",
       "4      0.1980          0.10430     0.1809             0.05883  ...     16.67   \n",
       "\n",
       "   perimeter3   area3  smoothness3  compactness3  concavity3  concave_points3  \\\n",
       "0      184.60  2019.0       0.1622        0.6656      0.7119           0.2654   \n",
       "1      158.80  1956.0       0.1238        0.1866      0.2416           0.1860   \n",
       "2      152.50  1709.0       0.1444        0.4245      0.4504           0.2430   \n",
       "3       98.87   567.7       0.2098        0.8663      0.6869           0.2575   \n",
       "4      152.20  1575.0       0.1374        0.2050      0.4000           0.1625   \n",
       "\n",
       "   symmetry3  fractal_dimension3  Diagnosis  \n",
       "0     0.4601             0.11890          M  \n",
       "1     0.2750             0.08902          M  \n",
       "2     0.3613             0.08758          M  \n",
       "3     0.6638             0.17300          M  \n",
       "4     0.2364             0.07678          M  \n",
       "\n",
       "[5 rows x 31 columns]"
      ]
     },
     "execution_count": 3,
     "metadata": {},
     "output_type": "execute_result"
    }
   ],
   "source": [
    "data = pd.read_csv(r'A:\\Downloads\\Remedy.ai\\datasets\\breast.csv')\n",
    "\n",
    "data.head()"
   ]
  },
  {
   "cell_type": "code",
   "execution_count": 4,
   "id": "f269a6a5-3841-4577-b3a6-637640110421",
   "metadata": {},
   "outputs": [
    {
     "data": {
      "text/plain": [
       "{\n",
       "    \"METADATA_SPEC_VERSION\": \"SINGLE_TABLE_V1\",\n",
       "    \"columns\": {\n",
       "        \"radius1\": {\n",
       "            \"sdtype\": \"numerical\"\n",
       "        },\n",
       "        \"texture1\": {\n",
       "            \"sdtype\": \"numerical\"\n",
       "        },\n",
       "        \"perimeter1\": {\n",
       "            \"sdtype\": \"numerical\"\n",
       "        },\n",
       "        \"area1\": {\n",
       "            \"sdtype\": \"numerical\"\n",
       "        },\n",
       "        \"smoothness1\": {\n",
       "            \"sdtype\": \"numerical\"\n",
       "        },\n",
       "        \"compactness1\": {\n",
       "            \"sdtype\": \"numerical\"\n",
       "        },\n",
       "        \"concavity1\": {\n",
       "            \"sdtype\": \"numerical\"\n",
       "        },\n",
       "        \"concave_points1\": {\n",
       "            \"sdtype\": \"numerical\"\n",
       "        },\n",
       "        \"symmetry1\": {\n",
       "            \"sdtype\": \"numerical\"\n",
       "        },\n",
       "        \"fractal_dimension1\": {\n",
       "            \"sdtype\": \"numerical\"\n",
       "        },\n",
       "        \"radius2\": {\n",
       "            \"sdtype\": \"numerical\"\n",
       "        },\n",
       "        \"texture2\": {\n",
       "            \"sdtype\": \"numerical\"\n",
       "        },\n",
       "        \"perimeter2\": {\n",
       "            \"sdtype\": \"numerical\"\n",
       "        },\n",
       "        \"area2\": {\n",
       "            \"sdtype\": \"numerical\"\n",
       "        },\n",
       "        \"smoothness2\": {\n",
       "            \"sdtype\": \"numerical\"\n",
       "        },\n",
       "        \"compactness2\": {\n",
       "            \"sdtype\": \"numerical\"\n",
       "        },\n",
       "        \"concavity2\": {\n",
       "            \"sdtype\": \"numerical\"\n",
       "        },\n",
       "        \"concave_points2\": {\n",
       "            \"sdtype\": \"numerical\"\n",
       "        },\n",
       "        \"symmetry2\": {\n",
       "            \"sdtype\": \"numerical\"\n",
       "        },\n",
       "        \"fractal_dimension2\": {\n",
       "            \"sdtype\": \"numerical\"\n",
       "        },\n",
       "        \"radius3\": {\n",
       "            \"sdtype\": \"numerical\"\n",
       "        },\n",
       "        \"texture3\": {\n",
       "            \"sdtype\": \"numerical\"\n",
       "        },\n",
       "        \"perimeter3\": {\n",
       "            \"sdtype\": \"numerical\"\n",
       "        },\n",
       "        \"area3\": {\n",
       "            \"sdtype\": \"numerical\"\n",
       "        },\n",
       "        \"smoothness3\": {\n",
       "            \"sdtype\": \"numerical\"\n",
       "        },\n",
       "        \"compactness3\": {\n",
       "            \"sdtype\": \"numerical\"\n",
       "        },\n",
       "        \"concavity3\": {\n",
       "            \"sdtype\": \"numerical\"\n",
       "        },\n",
       "        \"concave_points3\": {\n",
       "            \"sdtype\": \"numerical\"\n",
       "        },\n",
       "        \"symmetry3\": {\n",
       "            \"sdtype\": \"numerical\"\n",
       "        },\n",
       "        \"fractal_dimension3\": {\n",
       "            \"sdtype\": \"numerical\"\n",
       "        },\n",
       "        \"Diagnosis\": {\n",
       "            \"sdtype\": \"categorical\"\n",
       "        }\n",
       "    }\n",
       "}"
      ]
     },
     "execution_count": 4,
     "metadata": {},
     "output_type": "execute_result"
    }
   ],
   "source": [
    "metadata = SingleTableMetadata()\n",
    "\n",
    "# Detect metadata from CSV file\n",
    "metadata.detect_from_csv(filepath=r'A:\\Downloads\\Remedy.ai\\datasets\\breast.csv')\n",
    "\n",
    "metadata"
   ]
  },
  {
   "cell_type": "markdown",
   "id": "f15802b7",
   "metadata": {},
   "source": [
    "### GaussianCopulaSynthesizer"
   ]
  },
  {
   "cell_type": "code",
   "execution_count": 12,
   "id": "fa441742",
   "metadata": {},
   "outputs": [
    {
     "name": "stdout",
     "output_type": "stream",
     "text": [
      "New Directory: c:\\Users\\akash\\Desktop\\Synthetic-Data-Generation-in-Medical-Applications\n"
     ]
    }
   ],
   "source": [
    "# Move up one directory level\n",
    "os.chdir(\"..\")\n",
    "\n",
    "# Get the new working directory\n",
    "new_dir = os.getcwd()\n",
    "print(\"New Directory:\", new_dir)"
   ]
  },
  {
   "cell_type": "code",
   "execution_count": 5,
   "id": "0b4f4d04",
   "metadata": {},
   "outputs": [
    {
     "name": "stderr",
     "output_type": "stream",
     "text": [
      "c:\\Users\\akash\\.conda\\envs\\newsroom\\lib\\site-packages\\sdv\\single_table\\base.py:86: UserWarning: We strongly recommend saving the metadata using 'save_to_json' for replicability in future SDV versions.\n",
      "  warnings.warn(\n"
     ]
    }
   ],
   "source": [
    "synthesizer = GaussianCopulaSynthesizer(\n",
    "    metadata\n",
    ")\n",
    "synthesizer.fit(data)\n",
    "synthesizer.save(filepath=r'A:\\Downloads\\Remedy.ai\\synthesizers\\GCSbc.pkl')\n",
    "#synthesizer.get_learned_distributions()"
   ]
  },
  {
   "cell_type": "code",
   "execution_count": 6,
   "id": "8047aaaf",
   "metadata": {},
   "outputs": [
    {
     "name": "stderr",
     "output_type": "stream",
     "text": [
      "  0%|          | 0/1000 [00:00<?, ?it/s]"
     ]
    },
    {
     "name": "stderr",
     "output_type": "stream",
     "text": [
      "Sampling rows: 100%|██████████| 1000/1000 [00:01<00:00, 731.59it/s]\n"
     ]
    }
   ],
   "source": [
    "# or load it\n",
    "synthesizer = GaussianCopulaSynthesizer.load(\n",
    "    filepath=r'A:\\Downloads\\Remedy.ai\\synthesizers\\GCSbc.pkl'\n",
    ")\n",
    "synthetic_data = synthesizer.sample(\n",
    "    num_rows=1000,\n",
    "    batch_size=100,\n",
    "    output_file_path=r'A:\\Downloads\\Remedy.ai\\synthetic\\GCSbc.csv',\n",
    ")"
   ]
  },
  {
   "cell_type": "markdown",
   "id": "0ce58458",
   "metadata": {},
   "source": [
    "### CTGANSynthesizer"
   ]
  },
  {
   "cell_type": "code",
   "execution_count": 7,
   "id": "da4c2d41",
   "metadata": {},
   "outputs": [
    {
     "name": "stderr",
     "output_type": "stream",
     "text": [
      "c:\\Users\\akash\\.conda\\envs\\newsroom\\lib\\site-packages\\tqdm\\auto.py:21: TqdmWarning: IProgress not found. Please update jupyter and ipywidgets. See https://ipywidgets.readthedocs.io/en/stable/user_install.html\n",
      "  from .autonotebook import tqdm as notebook_tqdm\n"
     ]
    },
    {
     "data": {
      "text/html": [
       "<div>\n",
       "<style scoped>\n",
       "    .dataframe tbody tr th:only-of-type {\n",
       "        vertical-align: middle;\n",
       "    }\n",
       "\n",
       "    .dataframe tbody tr th {\n",
       "        vertical-align: top;\n",
       "    }\n",
       "\n",
       "    .dataframe thead th {\n",
       "        text-align: right;\n",
       "    }\n",
       "</style>\n",
       "<table border=\"1\" class=\"dataframe\">\n",
       "  <thead>\n",
       "    <tr style=\"text-align: right;\">\n",
       "      <th></th>\n",
       "      <th>Epoch</th>\n",
       "      <th>Generator Loss</th>\n",
       "      <th>Discriminator Loss</th>\n",
       "    </tr>\n",
       "  </thead>\n",
       "  <tbody>\n",
       "    <tr>\n",
       "      <th>0</th>\n",
       "      <td>0</td>\n",
       "      <td>0.854951</td>\n",
       "      <td>0.001737</td>\n",
       "    </tr>\n",
       "    <tr>\n",
       "      <th>1</th>\n",
       "      <td>1</td>\n",
       "      <td>0.885055</td>\n",
       "      <td>-0.047173</td>\n",
       "    </tr>\n",
       "    <tr>\n",
       "      <th>2</th>\n",
       "      <td>2</td>\n",
       "      <td>0.909199</td>\n",
       "      <td>-0.073515</td>\n",
       "    </tr>\n",
       "    <tr>\n",
       "      <th>3</th>\n",
       "      <td>3</td>\n",
       "      <td>0.913198</td>\n",
       "      <td>-0.092323</td>\n",
       "    </tr>\n",
       "    <tr>\n",
       "      <th>4</th>\n",
       "      <td>4</td>\n",
       "      <td>0.897798</td>\n",
       "      <td>-0.171141</td>\n",
       "    </tr>\n",
       "    <tr>\n",
       "      <th>...</th>\n",
       "      <td>...</td>\n",
       "      <td>...</td>\n",
       "      <td>...</td>\n",
       "    </tr>\n",
       "    <tr>\n",
       "      <th>495</th>\n",
       "      <td>495</td>\n",
       "      <td>-0.981625</td>\n",
       "      <td>-0.058435</td>\n",
       "    </tr>\n",
       "    <tr>\n",
       "      <th>496</th>\n",
       "      <td>496</td>\n",
       "      <td>-0.973408</td>\n",
       "      <td>-0.103055</td>\n",
       "    </tr>\n",
       "    <tr>\n",
       "      <th>497</th>\n",
       "      <td>497</td>\n",
       "      <td>-0.971506</td>\n",
       "      <td>-0.275430</td>\n",
       "    </tr>\n",
       "    <tr>\n",
       "      <th>498</th>\n",
       "      <td>498</td>\n",
       "      <td>-1.042479</td>\n",
       "      <td>-0.260550</td>\n",
       "    </tr>\n",
       "    <tr>\n",
       "      <th>499</th>\n",
       "      <td>499</td>\n",
       "      <td>-0.837554</td>\n",
       "      <td>-0.109751</td>\n",
       "    </tr>\n",
       "  </tbody>\n",
       "</table>\n",
       "<p>500 rows × 3 columns</p>\n",
       "</div>"
      ],
      "text/plain": [
       "     Epoch  Generator Loss  Discriminator Loss\n",
       "0        0        0.854951            0.001737\n",
       "1        1        0.885055           -0.047173\n",
       "2        2        0.909199           -0.073515\n",
       "3        3        0.913198           -0.092323\n",
       "4        4        0.897798           -0.171141\n",
       "..     ...             ...                 ...\n",
       "495    495       -0.981625           -0.058435\n",
       "496    496       -0.973408           -0.103055\n",
       "497    497       -0.971506           -0.275430\n",
       "498    498       -1.042479           -0.260550\n",
       "499    499       -0.837554           -0.109751\n",
       "\n",
       "[500 rows x 3 columns]"
      ]
     },
     "execution_count": 7,
     "metadata": {},
     "output_type": "execute_result"
    }
   ],
   "source": [
    "synthesizer = CTGANSynthesizer(\n",
    "    metadata,\n",
    "    epochs=500,\n",
    ")\n",
    "synthesizer.fit(data)\n",
    "synthesizer.save(filepath='A:\\Downloads\\Remedy.ai\\synthesizers\\CTGANbc.pkl')\n",
    "synthesizer.get_loss_values()"
   ]
  },
  {
   "cell_type": "code",
   "execution_count": 8,
   "id": "2ce900fc",
   "metadata": {},
   "outputs": [
    {
     "name": "stderr",
     "output_type": "stream",
     "text": [
      "Sampling rows: 100%|██████████| 1000/1000 [00:02<00:00, 416.22it/s]\n"
     ]
    }
   ],
   "source": [
    "# or load it\n",
    "synthesizer = CTGANSynthesizer.load(\n",
    "    filepath=r'A:\\Downloads\\Remedy.ai\\synthesizers\\CTGANbc.pkl'\n",
    ")\n",
    "synthetic_data = synthesizer.sample(\n",
    "    num_rows=1000,\n",
    "    batch_size=100,\n",
    "    output_file_path='A:\\Downloads\\Remedy.ai\\synthetic\\CTGANbc.csv',\n",
    ")"
   ]
  },
  {
   "cell_type": "markdown",
   "id": "c8b065e8",
   "metadata": {},
   "source": [
    "### TVAESynthesizer"
   ]
  },
  {
   "cell_type": "code",
   "execution_count": 9,
   "id": "60db55e2-7e1e-43c7-842f-31c0b852c1ed",
   "metadata": {},
   "outputs": [],
   "source": [
    "synthesizer = TVAESynthesizer(\n",
    "    metadata,\n",
    "    epochs=500,\n",
    ")\n",
    "synthesizer.fit(data)\n",
    "synthesizer.save(filepath='A:\\Downloads\\Remedy.ai\\synthesizers\\TVAESbc.pkl')"
   ]
  },
  {
   "cell_type": "code",
   "execution_count": 10,
   "id": "2a9b6c9e-ac9b-46f3-bfef-1815f019fe5d",
   "metadata": {},
   "outputs": [
    {
     "data": {
      "text/html": [
       "<div>\n",
       "<style scoped>\n",
       "    .dataframe tbody tr th:only-of-type {\n",
       "        vertical-align: middle;\n",
       "    }\n",
       "\n",
       "    .dataframe tbody tr th {\n",
       "        vertical-align: top;\n",
       "    }\n",
       "\n",
       "    .dataframe thead th {\n",
       "        text-align: right;\n",
       "    }\n",
       "</style>\n",
       "<table border=\"1\" class=\"dataframe\">\n",
       "  <thead>\n",
       "    <tr style=\"text-align: right;\">\n",
       "      <th></th>\n",
       "      <th>Epoch</th>\n",
       "      <th>Batch</th>\n",
       "      <th>Loss</th>\n",
       "    </tr>\n",
       "  </thead>\n",
       "  <tbody>\n",
       "    <tr>\n",
       "      <th>0</th>\n",
       "      <td>0</td>\n",
       "      <td>0</td>\n",
       "      <td>155.145752</td>\n",
       "    </tr>\n",
       "    <tr>\n",
       "      <th>1</th>\n",
       "      <td>0</td>\n",
       "      <td>1</td>\n",
       "      <td>127.926491</td>\n",
       "    </tr>\n",
       "    <tr>\n",
       "      <th>2</th>\n",
       "      <td>1</td>\n",
       "      <td>0</td>\n",
       "      <td>132.876816</td>\n",
       "    </tr>\n",
       "    <tr>\n",
       "      <th>3</th>\n",
       "      <td>1</td>\n",
       "      <td>1</td>\n",
       "      <td>118.581406</td>\n",
       "    </tr>\n",
       "    <tr>\n",
       "      <th>4</th>\n",
       "      <td>2</td>\n",
       "      <td>0</td>\n",
       "      <td>119.217270</td>\n",
       "    </tr>\n",
       "    <tr>\n",
       "      <th>...</th>\n",
       "      <td>...</td>\n",
       "      <td>...</td>\n",
       "      <td>...</td>\n",
       "    </tr>\n",
       "    <tr>\n",
       "      <th>995</th>\n",
       "      <td>497</td>\n",
       "      <td>1</td>\n",
       "      <td>-26.173100</td>\n",
       "    </tr>\n",
       "    <tr>\n",
       "      <th>996</th>\n",
       "      <td>498</td>\n",
       "      <td>0</td>\n",
       "      <td>-27.578339</td>\n",
       "    </tr>\n",
       "    <tr>\n",
       "      <th>997</th>\n",
       "      <td>498</td>\n",
       "      <td>1</td>\n",
       "      <td>-25.100630</td>\n",
       "    </tr>\n",
       "    <tr>\n",
       "      <th>998</th>\n",
       "      <td>499</td>\n",
       "      <td>0</td>\n",
       "      <td>-26.697193</td>\n",
       "    </tr>\n",
       "    <tr>\n",
       "      <th>999</th>\n",
       "      <td>499</td>\n",
       "      <td>1</td>\n",
       "      <td>-28.461277</td>\n",
       "    </tr>\n",
       "  </tbody>\n",
       "</table>\n",
       "<p>1000 rows × 3 columns</p>\n",
       "</div>"
      ],
      "text/plain": [
       "     Epoch  Batch        Loss\n",
       "0        0      0  155.145752\n",
       "1        0      1  127.926491\n",
       "2        1      0  132.876816\n",
       "3        1      1  118.581406\n",
       "4        2      0  119.217270\n",
       "..     ...    ...         ...\n",
       "995    497      1  -26.173100\n",
       "996    498      0  -27.578339\n",
       "997    498      1  -25.100630\n",
       "998    499      0  -26.697193\n",
       "999    499      1  -28.461277\n",
       "\n",
       "[1000 rows x 3 columns]"
      ]
     },
     "execution_count": 10,
     "metadata": {},
     "output_type": "execute_result"
    }
   ],
   "source": [
    "synthesizer.get_loss_values()"
   ]
  },
  {
   "cell_type": "code",
   "execution_count": 11,
   "id": "fd84e0c7-19bd-4d21-863a-3285565faac3",
   "metadata": {},
   "outputs": [],
   "source": [
    "# or load it\n",
    "synthesizer = TVAESynthesizer.load(\n",
    "    filepath=r'A:\\Downloads\\Remedy.ai\\synthesizers\\TVAESbc.pkl'\n",
    ")"
   ]
  },
  {
   "cell_type": "code",
   "execution_count": 14,
   "id": "a2bf3f3a-c7bf-4fae-b971-30c4e84d3c07",
   "metadata": {},
   "outputs": [
    {
     "name": "stderr",
     "output_type": "stream",
     "text": [
      "Sampling rows: 100%|██████████| 1000/1000 [00:03<00:00, 305.04it/s]\n"
     ]
    }
   ],
   "source": [
    "synthetic_data = synthesizer.sample(\n",
    "    num_rows=1000,\n",
    "    batch_size=100,\n",
    "    output_file_path='A:\\Downloads\\Remedy.ai\\synthetic\\TVAESbc.csv',\n",
    ")"
   ]
  },
  {
   "cell_type": "markdown",
   "id": "21e2f89a",
   "metadata": {},
   "source": [
    "### CopulaGANSynthesizer"
   ]
  },
  {
   "cell_type": "code",
   "execution_count": 34,
   "id": "7cfc4d87-fab0-4212-ad66-0a327bf634bb",
   "metadata": {},
   "outputs": [
    {
     "name": "stderr",
     "output_type": "stream",
     "text": [
      "Gen. (-2.26) | Discrim. (-0.23): 100%|██████████| 500/500 [00:23<00:00, 21.68it/s]\n"
     ]
    }
   ],
   "source": [
    "# train the synthesizer \n",
    "synthesizer = CopulaGANSynthesizer(\n",
    "    metadata,\n",
    "    epochs=500,\n",
    "    verbose=True,\n",
    ")\n",
    "\n",
    "synthesizer.fit(data)\n",
    "synthesizer.save(filepath='synthesizers/CGANbc.pkl')"
   ]
  },
  {
   "cell_type": "code",
   "execution_count": 35,
   "id": "560ae9d8-60e9-474e-9595-50eca072cf26",
   "metadata": {},
   "outputs": [
    {
     "data": {
      "text/html": [
       "<div>\n",
       "<style scoped>\n",
       "    .dataframe tbody tr th:only-of-type {\n",
       "        vertical-align: middle;\n",
       "    }\n",
       "\n",
       "    .dataframe tbody tr th {\n",
       "        vertical-align: top;\n",
       "    }\n",
       "\n",
       "    .dataframe thead th {\n",
       "        text-align: right;\n",
       "    }\n",
       "</style>\n",
       "<table border=\"1\" class=\"dataframe\">\n",
       "  <thead>\n",
       "    <tr style=\"text-align: right;\">\n",
       "      <th></th>\n",
       "      <th>Epoch</th>\n",
       "      <th>Generator Loss</th>\n",
       "      <th>Discriminator Loss</th>\n",
       "    </tr>\n",
       "  </thead>\n",
       "  <tbody>\n",
       "    <tr>\n",
       "      <th>0</th>\n",
       "      <td>0</td>\n",
       "      <td>0.817293</td>\n",
       "      <td>-0.003665</td>\n",
       "    </tr>\n",
       "    <tr>\n",
       "      <th>1</th>\n",
       "      <td>1</td>\n",
       "      <td>0.770676</td>\n",
       "      <td>-0.029333</td>\n",
       "    </tr>\n",
       "    <tr>\n",
       "      <th>2</th>\n",
       "      <td>2</td>\n",
       "      <td>0.782333</td>\n",
       "      <td>-0.093022</td>\n",
       "    </tr>\n",
       "    <tr>\n",
       "      <th>3</th>\n",
       "      <td>3</td>\n",
       "      <td>0.783737</td>\n",
       "      <td>-0.113403</td>\n",
       "    </tr>\n",
       "    <tr>\n",
       "      <th>4</th>\n",
       "      <td>4</td>\n",
       "      <td>0.739277</td>\n",
       "      <td>-0.188489</td>\n",
       "    </tr>\n",
       "    <tr>\n",
       "      <th>...</th>\n",
       "      <td>...</td>\n",
       "      <td>...</td>\n",
       "      <td>...</td>\n",
       "    </tr>\n",
       "    <tr>\n",
       "      <th>495</th>\n",
       "      <td>495</td>\n",
       "      <td>-2.712113</td>\n",
       "      <td>-0.443949</td>\n",
       "    </tr>\n",
       "    <tr>\n",
       "      <th>496</th>\n",
       "      <td>496</td>\n",
       "      <td>-2.386628</td>\n",
       "      <td>-0.423564</td>\n",
       "    </tr>\n",
       "    <tr>\n",
       "      <th>497</th>\n",
       "      <td>497</td>\n",
       "      <td>-2.203330</td>\n",
       "      <td>-0.059741</td>\n",
       "    </tr>\n",
       "    <tr>\n",
       "      <th>498</th>\n",
       "      <td>498</td>\n",
       "      <td>-2.323760</td>\n",
       "      <td>0.019763</td>\n",
       "    </tr>\n",
       "    <tr>\n",
       "      <th>499</th>\n",
       "      <td>499</td>\n",
       "      <td>-2.258265</td>\n",
       "      <td>-0.228775</td>\n",
       "    </tr>\n",
       "  </tbody>\n",
       "</table>\n",
       "<p>500 rows × 3 columns</p>\n",
       "</div>"
      ],
      "text/plain": [
       "     Epoch  Generator Loss  Discriminator Loss\n",
       "0        0        0.817293           -0.003665\n",
       "1        1        0.770676           -0.029333\n",
       "2        2        0.782333           -0.093022\n",
       "3        3        0.783737           -0.113403\n",
       "4        4        0.739277           -0.188489\n",
       "..     ...             ...                 ...\n",
       "495    495       -2.712113           -0.443949\n",
       "496    496       -2.386628           -0.423564\n",
       "497    497       -2.203330           -0.059741\n",
       "498    498       -2.323760            0.019763\n",
       "499    499       -2.258265           -0.228775\n",
       "\n",
       "[500 rows x 3 columns]"
      ]
     },
     "execution_count": 35,
     "metadata": {},
     "output_type": "execute_result"
    }
   ],
   "source": [
    "synthesizer.get_loss_values()"
   ]
  },
  {
   "cell_type": "code",
   "execution_count": null,
   "id": "ea3b82d8-64a7-4ec8-a89c-57dc4359ea7e",
   "metadata": {},
   "outputs": [],
   "source": [
    "# or load it\n",
    "synthesizer = CopulaGANSynthesizer.load(\n",
    "    filepath='synthesizers/CGANbc.pkl'\n",
    ")"
   ]
  },
  {
   "cell_type": "code",
   "execution_count": 36,
   "id": "bcde005d-e245-46f0-a916-dd1638c4ffa9",
   "metadata": {},
   "outputs": [
    {
     "name": "stderr",
     "output_type": "stream",
     "text": [
      "Sampling rows: 100%|██████████| 100000/100000 [04:25<00:00, 377.00it/s]\n"
     ]
    }
   ],
   "source": [
    "synthetic_data = synthesizer.sample(\n",
    "    num_rows=100_000,\n",
    "    batch_size=100,\n",
    "    output_file_path='synthetic/CGANbc.csv',\n",
    ")"
   ]
  },
  {
   "cell_type": "code",
   "execution_count": null,
   "id": "10e42347",
   "metadata": {},
   "outputs": [],
   "source": []
  },
  {
   "cell_type": "code",
   "execution_count": null,
   "id": "53990d3b",
   "metadata": {},
   "outputs": [],
   "source": []
  },
  {
   "cell_type": "code",
   "execution_count": null,
   "id": "d63037e3",
   "metadata": {},
   "outputs": [],
   "source": []
  },
  {
   "cell_type": "code",
   "execution_count": null,
   "id": "9b066736",
   "metadata": {},
   "outputs": [],
   "source": []
  }
 ],
 "metadata": {
  "kernelspec": {
   "display_name": "newsroom",
   "language": "python",
   "name": "python3"
  },
  "language_info": {
   "codemirror_mode": {
    "name": "ipython",
    "version": 3
   },
   "file_extension": ".py",
   "mimetype": "text/x-python",
   "name": "python",
   "nbconvert_exporter": "python",
   "pygments_lexer": "ipython3",
   "version": "3.10.13"
  }
 },
 "nbformat": 4,
 "nbformat_minor": 5
}
